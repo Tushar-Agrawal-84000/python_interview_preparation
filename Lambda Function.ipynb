{
 "cells": [
  {
   "cell_type": "code",
   "execution_count": 1,
   "id": "5aaf398f",
   "metadata": {},
   "outputs": [],
   "source": [
    "import pandas as pd"
   ]
  },
  {
   "cell_type": "code",
   "execution_count": 2,
   "id": "e1cc2313",
   "metadata": {},
   "outputs": [],
   "source": [
    "import pandas as pd\n",
    "\n",
    "df = pd.read_csv(r\"C:\\Users\\user\\Downloads\\siddharth\\loan_small.csv\")\n"
   ]
  },
  {
   "cell_type": "code",
   "execution_count": 3,
   "id": "c1477280",
   "metadata": {},
   "outputs": [
    {
     "data": {
      "text/html": [
       "<div>\n",
       "<style scoped>\n",
       "    .dataframe tbody tr th:only-of-type {\n",
       "        vertical-align: middle;\n",
       "    }\n",
       "\n",
       "    .dataframe tbody tr th {\n",
       "        vertical-align: top;\n",
       "    }\n",
       "\n",
       "    .dataframe thead th {\n",
       "        text-align: right;\n",
       "    }\n",
       "</style>\n",
       "<table border=\"1\" class=\"dataframe\">\n",
       "  <thead>\n",
       "    <tr style=\"text-align: right;\">\n",
       "      <th></th>\n",
       "      <th>Loan_ID</th>\n",
       "      <th>Gender</th>\n",
       "      <th>ApplicantIncome</th>\n",
       "      <th>CoapplicantIncome</th>\n",
       "      <th>LoanAmount</th>\n",
       "      <th>Area</th>\n",
       "      <th>Loan_Status</th>\n",
       "    </tr>\n",
       "  </thead>\n",
       "  <tbody>\n",
       "    <tr>\n",
       "      <th>0</th>\n",
       "      <td>LP001002</td>\n",
       "      <td>NaN</td>\n",
       "      <td>5849.0</td>\n",
       "      <td>0.0</td>\n",
       "      <td>NaN</td>\n",
       "      <td>urban</td>\n",
       "      <td>Y</td>\n",
       "    </tr>\n",
       "    <tr>\n",
       "      <th>1</th>\n",
       "      <td>LP001003</td>\n",
       "      <td>Male</td>\n",
       "      <td>4583.0</td>\n",
       "      <td>NaN</td>\n",
       "      <td>128.0</td>\n",
       "      <td>semi</td>\n",
       "      <td>N</td>\n",
       "    </tr>\n",
       "    <tr>\n",
       "      <th>2</th>\n",
       "      <td>LP001005</td>\n",
       "      <td>Male</td>\n",
       "      <td>3000.0</td>\n",
       "      <td>0.0</td>\n",
       "      <td>66.0</td>\n",
       "      <td>NaN</td>\n",
       "      <td>Y</td>\n",
       "    </tr>\n",
       "    <tr>\n",
       "      <th>3</th>\n",
       "      <td>LP001006</td>\n",
       "      <td>Female</td>\n",
       "      <td>2583.0</td>\n",
       "      <td>2358.0</td>\n",
       "      <td>120.0</td>\n",
       "      <td>semi</td>\n",
       "      <td>NaN</td>\n",
       "    </tr>\n",
       "    <tr>\n",
       "      <th>4</th>\n",
       "      <td>LP001008</td>\n",
       "      <td>Male</td>\n",
       "      <td>NaN</td>\n",
       "      <td>0.0</td>\n",
       "      <td>141.0</td>\n",
       "      <td>urban</td>\n",
       "      <td>Y</td>\n",
       "    </tr>\n",
       "  </tbody>\n",
       "</table>\n",
       "</div>"
      ],
      "text/plain": [
       "    Loan_ID  Gender  ApplicantIncome  CoapplicantIncome  LoanAmount   Area  \\\n",
       "0  LP001002     NaN           5849.0                0.0         NaN  urban   \n",
       "1  LP001003    Male           4583.0                NaN       128.0   semi   \n",
       "2  LP001005    Male           3000.0                0.0        66.0    NaN   \n",
       "3  LP001006  Female           2583.0             2358.0       120.0   semi   \n",
       "4  LP001008    Male              NaN                0.0       141.0  urban   \n",
       "\n",
       "  Loan_Status  \n",
       "0           Y  \n",
       "1           N  \n",
       "2           Y  \n",
       "3         NaN  \n",
       "4           Y  "
      ]
     },
     "execution_count": 3,
     "metadata": {},
     "output_type": "execute_result"
    }
   ],
   "source": [
    "df.head()"
   ]
  },
  {
   "cell_type": "code",
   "execution_count": 4,
   "id": "6b55e4d9",
   "metadata": {},
   "outputs": [],
   "source": [
    "df_sorted = df.sort_values(by = ['Area'])"
   ]
  },
  {
   "cell_type": "code",
   "execution_count": 5,
   "id": "d5f499a7",
   "metadata": {},
   "outputs": [
    {
     "data": {
      "text/html": [
       "<div>\n",
       "<style scoped>\n",
       "    .dataframe tbody tr th:only-of-type {\n",
       "        vertical-align: middle;\n",
       "    }\n",
       "\n",
       "    .dataframe tbody tr th {\n",
       "        vertical-align: top;\n",
       "    }\n",
       "\n",
       "    .dataframe thead th {\n",
       "        text-align: right;\n",
       "    }\n",
       "</style>\n",
       "<table border=\"1\" class=\"dataframe\">\n",
       "  <thead>\n",
       "    <tr style=\"text-align: right;\">\n",
       "      <th></th>\n",
       "      <th>Loan_ID</th>\n",
       "      <th>Gender</th>\n",
       "      <th>ApplicantIncome</th>\n",
       "      <th>CoapplicantIncome</th>\n",
       "      <th>LoanAmount</th>\n",
       "      <th>Area</th>\n",
       "      <th>Loan_Status</th>\n",
       "    </tr>\n",
       "  </thead>\n",
       "  <tbody>\n",
       "    <tr>\n",
       "      <th>6</th>\n",
       "      <td>LP001013</td>\n",
       "      <td>Male</td>\n",
       "      <td>2333.0</td>\n",
       "      <td>1516.0</td>\n",
       "      <td>NaN</td>\n",
       "      <td>rural</td>\n",
       "      <td>Y</td>\n",
       "    </tr>\n",
       "    <tr>\n",
       "      <th>8</th>\n",
       "      <td>LP001018</td>\n",
       "      <td>Male</td>\n",
       "      <td>4006.0</td>\n",
       "      <td>1526.0</td>\n",
       "      <td>168.0</td>\n",
       "      <td>rural</td>\n",
       "      <td>Y</td>\n",
       "    </tr>\n",
       "    <tr>\n",
       "      <th>1</th>\n",
       "      <td>LP001003</td>\n",
       "      <td>Male</td>\n",
       "      <td>4583.0</td>\n",
       "      <td>NaN</td>\n",
       "      <td>128.0</td>\n",
       "      <td>semi</td>\n",
       "      <td>N</td>\n",
       "    </tr>\n",
       "    <tr>\n",
       "      <th>3</th>\n",
       "      <td>LP001006</td>\n",
       "      <td>Female</td>\n",
       "      <td>2583.0</td>\n",
       "      <td>2358.0</td>\n",
       "      <td>120.0</td>\n",
       "      <td>semi</td>\n",
       "      <td>NaN</td>\n",
       "    </tr>\n",
       "    <tr>\n",
       "      <th>5</th>\n",
       "      <td>LP001011</td>\n",
       "      <td>Male</td>\n",
       "      <td>5417.0</td>\n",
       "      <td>4196.0</td>\n",
       "      <td>267.0</td>\n",
       "      <td>semi</td>\n",
       "      <td>Y</td>\n",
       "    </tr>\n",
       "  </tbody>\n",
       "</table>\n",
       "</div>"
      ],
      "text/plain": [
       "    Loan_ID  Gender  ApplicantIncome  CoapplicantIncome  LoanAmount   Area  \\\n",
       "6  LP001013    Male           2333.0             1516.0         NaN  rural   \n",
       "8  LP001018    Male           4006.0             1526.0       168.0  rural   \n",
       "1  LP001003    Male           4583.0                NaN       128.0   semi   \n",
       "3  LP001006  Female           2583.0             2358.0       120.0   semi   \n",
       "5  LP001011    Male           5417.0             4196.0       267.0   semi   \n",
       "\n",
       "  Loan_Status  \n",
       "6           Y  \n",
       "8           Y  \n",
       "1           N  \n",
       "3         NaN  \n",
       "5           Y  "
      ]
     },
     "execution_count": 5,
     "metadata": {},
     "output_type": "execute_result"
    }
   ],
   "source": [
    "df_sorted.head()"
   ]
  },
  {
   "cell_type": "code",
   "execution_count": 6,
   "id": "6d060890",
   "metadata": {},
   "outputs": [
    {
     "data": {
      "text/plain": [
       "16"
      ]
     },
     "execution_count": 6,
     "metadata": {},
     "output_type": "execute_result"
    }
   ],
   "source": [
    "len(df)"
   ]
  },
  {
   "cell_type": "code",
   "execution_count": 7,
   "id": "0b09e8fe",
   "metadata": {},
   "outputs": [],
   "source": [
    "df_sorted = df_sorted.sort_values(by=['Area', 'ApplicantIncome'], ascending=[True, False])\n",
    "df_sorted['running_sum'] = df_sorted.groupby('Area')['ApplicantIncome'].cumsum()\n",
    "\n"
   ]
  },
  {
   "cell_type": "code",
   "execution_count": 8,
   "id": "5c2fd507",
   "metadata": {},
   "outputs": [
    {
     "data": {
      "text/html": [
       "<div>\n",
       "<style scoped>\n",
       "    .dataframe tbody tr th:only-of-type {\n",
       "        vertical-align: middle;\n",
       "    }\n",
       "\n",
       "    .dataframe tbody tr th {\n",
       "        vertical-align: top;\n",
       "    }\n",
       "\n",
       "    .dataframe thead th {\n",
       "        text-align: right;\n",
       "    }\n",
       "</style>\n",
       "<table border=\"1\" class=\"dataframe\">\n",
       "  <thead>\n",
       "    <tr style=\"text-align: right;\">\n",
       "      <th></th>\n",
       "      <th>Loan_ID</th>\n",
       "      <th>Gender</th>\n",
       "      <th>ApplicantIncome</th>\n",
       "      <th>CoapplicantIncome</th>\n",
       "      <th>LoanAmount</th>\n",
       "      <th>Area</th>\n",
       "      <th>Loan_Status</th>\n",
       "      <th>running_sum</th>\n",
       "    </tr>\n",
       "  </thead>\n",
       "  <tbody>\n",
       "    <tr>\n",
       "      <th>8</th>\n",
       "      <td>LP001018</td>\n",
       "      <td>Male</td>\n",
       "      <td>4006.0</td>\n",
       "      <td>1526.0</td>\n",
       "      <td>168.0</td>\n",
       "      <td>rural</td>\n",
       "      <td>Y</td>\n",
       "      <td>4006.0</td>\n",
       "    </tr>\n",
       "    <tr>\n",
       "      <th>6</th>\n",
       "      <td>LP001013</td>\n",
       "      <td>Male</td>\n",
       "      <td>2333.0</td>\n",
       "      <td>1516.0</td>\n",
       "      <td>NaN</td>\n",
       "      <td>rural</td>\n",
       "      <td>Y</td>\n",
       "      <td>6339.0</td>\n",
       "    </tr>\n",
       "    <tr>\n",
       "      <th>9</th>\n",
       "      <td>LP001020</td>\n",
       "      <td>Male</td>\n",
       "      <td>12841.0</td>\n",
       "      <td>10968.0</td>\n",
       "      <td>349.0</td>\n",
       "      <td>semi</td>\n",
       "      <td>N</td>\n",
       "      <td>12841.0</td>\n",
       "    </tr>\n",
       "    <tr>\n",
       "      <th>5</th>\n",
       "      <td>LP001011</td>\n",
       "      <td>Male</td>\n",
       "      <td>5417.0</td>\n",
       "      <td>4196.0</td>\n",
       "      <td>267.0</td>\n",
       "      <td>semi</td>\n",
       "      <td>Y</td>\n",
       "      <td>18258.0</td>\n",
       "    </tr>\n",
       "    <tr>\n",
       "      <th>15</th>\n",
       "      <td>LP001032</td>\n",
       "      <td>Male</td>\n",
       "      <td>4950.0</td>\n",
       "      <td>0.0</td>\n",
       "      <td>125.0</td>\n",
       "      <td>semi</td>\n",
       "      <td>Y</td>\n",
       "      <td>23208.0</td>\n",
       "    </tr>\n",
       "    <tr>\n",
       "      <th>1</th>\n",
       "      <td>LP001003</td>\n",
       "      <td>Male</td>\n",
       "      <td>4583.0</td>\n",
       "      <td>NaN</td>\n",
       "      <td>128.0</td>\n",
       "      <td>semi</td>\n",
       "      <td>N</td>\n",
       "      <td>27791.0</td>\n",
       "    </tr>\n",
       "    <tr>\n",
       "      <th>7</th>\n",
       "      <td>LP001014</td>\n",
       "      <td>Female</td>\n",
       "      <td>3036.0</td>\n",
       "      <td>2504.0</td>\n",
       "      <td>158.0</td>\n",
       "      <td>semi</td>\n",
       "      <td>N</td>\n",
       "      <td>30827.0</td>\n",
       "    </tr>\n",
       "    <tr>\n",
       "      <th>3</th>\n",
       "      <td>LP001006</td>\n",
       "      <td>Female</td>\n",
       "      <td>2583.0</td>\n",
       "      <td>2358.0</td>\n",
       "      <td>120.0</td>\n",
       "      <td>semi</td>\n",
       "      <td>NaN</td>\n",
       "      <td>33410.0</td>\n",
       "    </tr>\n",
       "    <tr>\n",
       "      <th>14</th>\n",
       "      <td>LP001030</td>\n",
       "      <td>Male</td>\n",
       "      <td>1299.0</td>\n",
       "      <td>1086.0</td>\n",
       "      <td>17.0</td>\n",
       "      <td>semi</td>\n",
       "      <td>Y</td>\n",
       "      <td>34709.0</td>\n",
       "    </tr>\n",
       "    <tr>\n",
       "      <th>0</th>\n",
       "      <td>LP001002</td>\n",
       "      <td>NaN</td>\n",
       "      <td>5849.0</td>\n",
       "      <td>0.0</td>\n",
       "      <td>NaN</td>\n",
       "      <td>urban</td>\n",
       "      <td>Y</td>\n",
       "      <td>5849.0</td>\n",
       "    </tr>\n",
       "    <tr>\n",
       "      <th>10</th>\n",
       "      <td>LP001024</td>\n",
       "      <td>Female</td>\n",
       "      <td>3200.0</td>\n",
       "      <td>700.0</td>\n",
       "      <td>70.0</td>\n",
       "      <td>urban</td>\n",
       "      <td>Y</td>\n",
       "      <td>9049.0</td>\n",
       "    </tr>\n",
       "    <tr>\n",
       "      <th>11</th>\n",
       "      <td>LP001027</td>\n",
       "      <td>Male</td>\n",
       "      <td>2500.0</td>\n",
       "      <td>1840.0</td>\n",
       "      <td>109.0</td>\n",
       "      <td>urban</td>\n",
       "      <td>Y</td>\n",
       "      <td>11549.0</td>\n",
       "    </tr>\n",
       "    <tr>\n",
       "      <th>13</th>\n",
       "      <td>LP001029</td>\n",
       "      <td>Male</td>\n",
       "      <td>1853.0</td>\n",
       "      <td>2840.0</td>\n",
       "      <td>114.0</td>\n",
       "      <td>urban</td>\n",
       "      <td>N</td>\n",
       "      <td>13402.0</td>\n",
       "    </tr>\n",
       "    <tr>\n",
       "      <th>4</th>\n",
       "      <td>LP001008</td>\n",
       "      <td>Male</td>\n",
       "      <td>NaN</td>\n",
       "      <td>0.0</td>\n",
       "      <td>141.0</td>\n",
       "      <td>urban</td>\n",
       "      <td>Y</td>\n",
       "      <td>NaN</td>\n",
       "    </tr>\n",
       "    <tr>\n",
       "      <th>12</th>\n",
       "      <td>LP001028</td>\n",
       "      <td>Female</td>\n",
       "      <td>NaN</td>\n",
       "      <td>8106.0</td>\n",
       "      <td>NaN</td>\n",
       "      <td>urban</td>\n",
       "      <td>Y</td>\n",
       "      <td>NaN</td>\n",
       "    </tr>\n",
       "    <tr>\n",
       "      <th>2</th>\n",
       "      <td>LP001005</td>\n",
       "      <td>Male</td>\n",
       "      <td>3000.0</td>\n",
       "      <td>0.0</td>\n",
       "      <td>66.0</td>\n",
       "      <td>NaN</td>\n",
       "      <td>Y</td>\n",
       "      <td>NaN</td>\n",
       "    </tr>\n",
       "  </tbody>\n",
       "</table>\n",
       "</div>"
      ],
      "text/plain": [
       "     Loan_ID  Gender  ApplicantIncome  CoapplicantIncome  LoanAmount   Area  \\\n",
       "8   LP001018    Male           4006.0             1526.0       168.0  rural   \n",
       "6   LP001013    Male           2333.0             1516.0         NaN  rural   \n",
       "9   LP001020    Male          12841.0            10968.0       349.0   semi   \n",
       "5   LP001011    Male           5417.0             4196.0       267.0   semi   \n",
       "15  LP001032    Male           4950.0                0.0       125.0   semi   \n",
       "1   LP001003    Male           4583.0                NaN       128.0   semi   \n",
       "7   LP001014  Female           3036.0             2504.0       158.0   semi   \n",
       "3   LP001006  Female           2583.0             2358.0       120.0   semi   \n",
       "14  LP001030    Male           1299.0             1086.0        17.0   semi   \n",
       "0   LP001002     NaN           5849.0                0.0         NaN  urban   \n",
       "10  LP001024  Female           3200.0              700.0        70.0  urban   \n",
       "11  LP001027    Male           2500.0             1840.0       109.0  urban   \n",
       "13  LP001029    Male           1853.0             2840.0       114.0  urban   \n",
       "4   LP001008    Male              NaN                0.0       141.0  urban   \n",
       "12  LP001028  Female              NaN             8106.0         NaN  urban   \n",
       "2   LP001005    Male           3000.0                0.0        66.0    NaN   \n",
       "\n",
       "   Loan_Status  running_sum  \n",
       "8            Y       4006.0  \n",
       "6            Y       6339.0  \n",
       "9            N      12841.0  \n",
       "5            Y      18258.0  \n",
       "15           Y      23208.0  \n",
       "1            N      27791.0  \n",
       "7            N      30827.0  \n",
       "3          NaN      33410.0  \n",
       "14           Y      34709.0  \n",
       "0            Y       5849.0  \n",
       "10           Y       9049.0  \n",
       "11           Y      11549.0  \n",
       "13           N      13402.0  \n",
       "4            Y          NaN  \n",
       "12           Y          NaN  \n",
       "2            Y          NaN  "
      ]
     },
     "execution_count": 8,
     "metadata": {},
     "output_type": "execute_result"
    }
   ],
   "source": [
    "df_sorted"
   ]
  },
  {
   "cell_type": "code",
   "execution_count": 9,
   "id": "d704a399",
   "metadata": {},
   "outputs": [],
   "source": [
    "df_sorted['rank'] = df_sorted.groupby('Area')['ApplicantIncome'].rank(ascending=False, method='dense')"
   ]
  },
  {
   "cell_type": "code",
   "execution_count": 10,
   "id": "d64e12dc",
   "metadata": {},
   "outputs": [
    {
     "data": {
      "text/html": [
       "<div>\n",
       "<style scoped>\n",
       "    .dataframe tbody tr th:only-of-type {\n",
       "        vertical-align: middle;\n",
       "    }\n",
       "\n",
       "    .dataframe tbody tr th {\n",
       "        vertical-align: top;\n",
       "    }\n",
       "\n",
       "    .dataframe thead th {\n",
       "        text-align: right;\n",
       "    }\n",
       "</style>\n",
       "<table border=\"1\" class=\"dataframe\">\n",
       "  <thead>\n",
       "    <tr style=\"text-align: right;\">\n",
       "      <th></th>\n",
       "      <th>Loan_ID</th>\n",
       "      <th>Gender</th>\n",
       "      <th>ApplicantIncome</th>\n",
       "      <th>CoapplicantIncome</th>\n",
       "      <th>LoanAmount</th>\n",
       "      <th>Area</th>\n",
       "      <th>Loan_Status</th>\n",
       "      <th>running_sum</th>\n",
       "      <th>rank</th>\n",
       "    </tr>\n",
       "  </thead>\n",
       "  <tbody>\n",
       "    <tr>\n",
       "      <th>8</th>\n",
       "      <td>LP001018</td>\n",
       "      <td>Male</td>\n",
       "      <td>4006.0</td>\n",
       "      <td>1526.0</td>\n",
       "      <td>168.0</td>\n",
       "      <td>rural</td>\n",
       "      <td>Y</td>\n",
       "      <td>4006.0</td>\n",
       "      <td>1.0</td>\n",
       "    </tr>\n",
       "    <tr>\n",
       "      <th>6</th>\n",
       "      <td>LP001013</td>\n",
       "      <td>Male</td>\n",
       "      <td>2333.0</td>\n",
       "      <td>1516.0</td>\n",
       "      <td>NaN</td>\n",
       "      <td>rural</td>\n",
       "      <td>Y</td>\n",
       "      <td>6339.0</td>\n",
       "      <td>2.0</td>\n",
       "    </tr>\n",
       "    <tr>\n",
       "      <th>9</th>\n",
       "      <td>LP001020</td>\n",
       "      <td>Male</td>\n",
       "      <td>12841.0</td>\n",
       "      <td>10968.0</td>\n",
       "      <td>349.0</td>\n",
       "      <td>semi</td>\n",
       "      <td>N</td>\n",
       "      <td>12841.0</td>\n",
       "      <td>1.0</td>\n",
       "    </tr>\n",
       "    <tr>\n",
       "      <th>5</th>\n",
       "      <td>LP001011</td>\n",
       "      <td>Male</td>\n",
       "      <td>5417.0</td>\n",
       "      <td>4196.0</td>\n",
       "      <td>267.0</td>\n",
       "      <td>semi</td>\n",
       "      <td>Y</td>\n",
       "      <td>18258.0</td>\n",
       "      <td>2.0</td>\n",
       "    </tr>\n",
       "    <tr>\n",
       "      <th>15</th>\n",
       "      <td>LP001032</td>\n",
       "      <td>Male</td>\n",
       "      <td>4950.0</td>\n",
       "      <td>0.0</td>\n",
       "      <td>125.0</td>\n",
       "      <td>semi</td>\n",
       "      <td>Y</td>\n",
       "      <td>23208.0</td>\n",
       "      <td>3.0</td>\n",
       "    </tr>\n",
       "    <tr>\n",
       "      <th>1</th>\n",
       "      <td>LP001003</td>\n",
       "      <td>Male</td>\n",
       "      <td>4583.0</td>\n",
       "      <td>NaN</td>\n",
       "      <td>128.0</td>\n",
       "      <td>semi</td>\n",
       "      <td>N</td>\n",
       "      <td>27791.0</td>\n",
       "      <td>4.0</td>\n",
       "    </tr>\n",
       "    <tr>\n",
       "      <th>7</th>\n",
       "      <td>LP001014</td>\n",
       "      <td>Female</td>\n",
       "      <td>3036.0</td>\n",
       "      <td>2504.0</td>\n",
       "      <td>158.0</td>\n",
       "      <td>semi</td>\n",
       "      <td>N</td>\n",
       "      <td>30827.0</td>\n",
       "      <td>5.0</td>\n",
       "    </tr>\n",
       "    <tr>\n",
       "      <th>3</th>\n",
       "      <td>LP001006</td>\n",
       "      <td>Female</td>\n",
       "      <td>2583.0</td>\n",
       "      <td>2358.0</td>\n",
       "      <td>120.0</td>\n",
       "      <td>semi</td>\n",
       "      <td>NaN</td>\n",
       "      <td>33410.0</td>\n",
       "      <td>6.0</td>\n",
       "    </tr>\n",
       "    <tr>\n",
       "      <th>14</th>\n",
       "      <td>LP001030</td>\n",
       "      <td>Male</td>\n",
       "      <td>1299.0</td>\n",
       "      <td>1086.0</td>\n",
       "      <td>17.0</td>\n",
       "      <td>semi</td>\n",
       "      <td>Y</td>\n",
       "      <td>34709.0</td>\n",
       "      <td>7.0</td>\n",
       "    </tr>\n",
       "    <tr>\n",
       "      <th>0</th>\n",
       "      <td>LP001002</td>\n",
       "      <td>NaN</td>\n",
       "      <td>5849.0</td>\n",
       "      <td>0.0</td>\n",
       "      <td>NaN</td>\n",
       "      <td>urban</td>\n",
       "      <td>Y</td>\n",
       "      <td>5849.0</td>\n",
       "      <td>1.0</td>\n",
       "    </tr>\n",
       "    <tr>\n",
       "      <th>10</th>\n",
       "      <td>LP001024</td>\n",
       "      <td>Female</td>\n",
       "      <td>3200.0</td>\n",
       "      <td>700.0</td>\n",
       "      <td>70.0</td>\n",
       "      <td>urban</td>\n",
       "      <td>Y</td>\n",
       "      <td>9049.0</td>\n",
       "      <td>2.0</td>\n",
       "    </tr>\n",
       "    <tr>\n",
       "      <th>11</th>\n",
       "      <td>LP001027</td>\n",
       "      <td>Male</td>\n",
       "      <td>2500.0</td>\n",
       "      <td>1840.0</td>\n",
       "      <td>109.0</td>\n",
       "      <td>urban</td>\n",
       "      <td>Y</td>\n",
       "      <td>11549.0</td>\n",
       "      <td>3.0</td>\n",
       "    </tr>\n",
       "    <tr>\n",
       "      <th>13</th>\n",
       "      <td>LP001029</td>\n",
       "      <td>Male</td>\n",
       "      <td>1853.0</td>\n",
       "      <td>2840.0</td>\n",
       "      <td>114.0</td>\n",
       "      <td>urban</td>\n",
       "      <td>N</td>\n",
       "      <td>13402.0</td>\n",
       "      <td>4.0</td>\n",
       "    </tr>\n",
       "    <tr>\n",
       "      <th>4</th>\n",
       "      <td>LP001008</td>\n",
       "      <td>Male</td>\n",
       "      <td>NaN</td>\n",
       "      <td>0.0</td>\n",
       "      <td>141.0</td>\n",
       "      <td>urban</td>\n",
       "      <td>Y</td>\n",
       "      <td>NaN</td>\n",
       "      <td>NaN</td>\n",
       "    </tr>\n",
       "    <tr>\n",
       "      <th>12</th>\n",
       "      <td>LP001028</td>\n",
       "      <td>Female</td>\n",
       "      <td>NaN</td>\n",
       "      <td>8106.0</td>\n",
       "      <td>NaN</td>\n",
       "      <td>urban</td>\n",
       "      <td>Y</td>\n",
       "      <td>NaN</td>\n",
       "      <td>NaN</td>\n",
       "    </tr>\n",
       "    <tr>\n",
       "      <th>2</th>\n",
       "      <td>LP001005</td>\n",
       "      <td>Male</td>\n",
       "      <td>3000.0</td>\n",
       "      <td>0.0</td>\n",
       "      <td>66.0</td>\n",
       "      <td>NaN</td>\n",
       "      <td>Y</td>\n",
       "      <td>NaN</td>\n",
       "      <td>NaN</td>\n",
       "    </tr>\n",
       "  </tbody>\n",
       "</table>\n",
       "</div>"
      ],
      "text/plain": [
       "     Loan_ID  Gender  ApplicantIncome  CoapplicantIncome  LoanAmount   Area  \\\n",
       "8   LP001018    Male           4006.0             1526.0       168.0  rural   \n",
       "6   LP001013    Male           2333.0             1516.0         NaN  rural   \n",
       "9   LP001020    Male          12841.0            10968.0       349.0   semi   \n",
       "5   LP001011    Male           5417.0             4196.0       267.0   semi   \n",
       "15  LP001032    Male           4950.0                0.0       125.0   semi   \n",
       "1   LP001003    Male           4583.0                NaN       128.0   semi   \n",
       "7   LP001014  Female           3036.0             2504.0       158.0   semi   \n",
       "3   LP001006  Female           2583.0             2358.0       120.0   semi   \n",
       "14  LP001030    Male           1299.0             1086.0        17.0   semi   \n",
       "0   LP001002     NaN           5849.0                0.0         NaN  urban   \n",
       "10  LP001024  Female           3200.0              700.0        70.0  urban   \n",
       "11  LP001027    Male           2500.0             1840.0       109.0  urban   \n",
       "13  LP001029    Male           1853.0             2840.0       114.0  urban   \n",
       "4   LP001008    Male              NaN                0.0       141.0  urban   \n",
       "12  LP001028  Female              NaN             8106.0         NaN  urban   \n",
       "2   LP001005    Male           3000.0                0.0        66.0    NaN   \n",
       "\n",
       "   Loan_Status  running_sum  rank  \n",
       "8            Y       4006.0   1.0  \n",
       "6            Y       6339.0   2.0  \n",
       "9            N      12841.0   1.0  \n",
       "5            Y      18258.0   2.0  \n",
       "15           Y      23208.0   3.0  \n",
       "1            N      27791.0   4.0  \n",
       "7            N      30827.0   5.0  \n",
       "3          NaN      33410.0   6.0  \n",
       "14           Y      34709.0   7.0  \n",
       "0            Y       5849.0   1.0  \n",
       "10           Y       9049.0   2.0  \n",
       "11           Y      11549.0   3.0  \n",
       "13           N      13402.0   4.0  \n",
       "4            Y          NaN   NaN  \n",
       "12           Y          NaN   NaN  \n",
       "2            Y          NaN   NaN  "
      ]
     },
     "execution_count": 10,
     "metadata": {},
     "output_type": "execute_result"
    }
   ],
   "source": [
    "df_sorted"
   ]
  },
  {
   "cell_type": "raw",
   "id": "13b8b680",
   "metadata": {},
   "source": [
    "1. Write a Python program to create a lambda function that adds 15 to a given number passed in as an argument, also create a lambda function that multiplies argument x with argument y and prints the result."
   ]
  },
  {
   "cell_type": "code",
   "execution_count": 11,
   "id": "96c90c22",
   "metadata": {},
   "outputs": [
    {
     "name": "stdout",
     "output_type": "stream",
     "text": [
      "12\n",
      "324\n"
     ]
    }
   ],
   "source": [
    "x =  int(input())\n",
    "r = lambda z : z +15\n",
    "print(x*r(x))"
   ]
  },
  {
   "cell_type": "raw",
   "id": "124110a4",
   "metadata": {},
   "source": [
    "2. Write a Python program to create a function that takes one argument, and that argument will be multiplied with an unknown given number."
   ]
  },
  {
   "cell_type": "code",
   "execution_count": 12,
   "id": "cf875054",
   "metadata": {},
   "outputs": [],
   "source": [
    "def multiplier(n):\n",
    "    return lambda x: x * n\n",
    "\n",
    "# Example usage:\n",
    "unknown_multiplier = multiplier(5)  # The unknown number is 5\n"
   ]
  },
  {
   "cell_type": "code",
   "execution_count": 13,
   "id": "a944bfa0",
   "metadata": {},
   "outputs": [
    {
     "name": "stdout",
     "output_type": "stream",
     "text": [
      "50\n"
     ]
    }
   ],
   "source": [
    "result = unknown_multiplier(10)  # 10 * 5 = 50\n",
    "print(result)  # Output: 50"
   ]
  },
  {
   "cell_type": "raw",
   "id": "d964181a",
   "metadata": {},
   "source": [
    "1. Sorting with Lambda\n",
    "Given a list of tuples containing names and ages, sort the list in ascending order of age using a lambda function.\n",
    "\n",
    "python\n",
    "Copy\n",
    "Edit\n",
    "people = [(\"Alice\", 25), (\"Bob\", 30), (\"Charlie\", 20), (\"David\", 35)]\n",
    "Expected Output:\n",
    "\n",
    "python\n",
    "Copy\n",
    "Edit\n",
    "[('Charlie', 20), ('Alice', 25), ('Bob', 30), ('David', 35)]"
   ]
  },
  {
   "cell_type": "code",
   "execution_count": 14,
   "id": "169dfe35",
   "metadata": {},
   "outputs": [
    {
     "data": {
      "text/plain": [
       "[('Charlie', 20), ('Alice', 25), ('Bob', 30), ('David', 35)]"
      ]
     },
     "execution_count": 14,
     "metadata": {},
     "output_type": "execute_result"
    }
   ],
   "source": [
    "people = [(\"Alice\", 25), (\"Bob\", 30), (\"Charlie\", 20), (\"David\", 35)]\n",
    "r = lambda x : sorted(x, key = lambda y : y[1])\n",
    "r(people)"
   ]
  },
  {
   "cell_type": "code",
   "execution_count": null,
   "id": "b0f2eefb",
   "metadata": {},
   "outputs": [],
   "source": []
  },
  {
   "cell_type": "raw",
   "id": "1608e5bd",
   "metadata": {},
   "source": [
    "2. Filtering Even Numbers\n",
    "Use a lambda function inside filter() to extract all even numbers from the list.\n",
    "\n",
    "python\n",
    "Copy\n",
    "Edit\n",
    "numbers = [10, 15, 20, 25, 30, 35, 40]\n",
    "Expected Output:\n",
    "\n",
    "python\n",
    "Copy\n",
    "Edit\n",
    "[10, 20, 30, 40]"
   ]
  },
  {
   "cell_type": "code",
   "execution_count": 15,
   "id": "4e0feb4a",
   "metadata": {},
   "outputs": [
    {
     "name": "stdout",
     "output_type": "stream",
     "text": [
      "[10, 20, 30, 40]\n"
     ]
    }
   ],
   "source": [
    "numbers = [10, 15, 20, 25, 30, 35, 40]\n",
    "even_numbers = list(filter(lambda x: x % 2 == 0, numbers))\n",
    "print(even_numbers)\n",
    "# filter(function, iterable)"
   ]
  },
  {
   "cell_type": "raw",
   "id": "7a71daee",
   "metadata": {},
   "source": [
    "3. Squaring Numbers\n",
    "Use map() with a lambda function to return a list of squares of the given numbers.\n",
    "\n",
    "python\n",
    "Copy\n",
    "Edit\n",
    "numbers = [2, 4, 6, 8, 10]\n",
    "Expected Output:\n",
    "\n",
    "python\n",
    "Copy\n",
    "Edit\n",
    "[4, 16, 36, 64, 100]"
   ]
  },
  {
   "cell_type": "code",
   "execution_count": 16,
   "id": "5eafb0da",
   "metadata": {},
   "outputs": [
    {
     "name": "stdout",
     "output_type": "stream",
     "text": [
      "[4, 16, 36, 64, 100]\n"
     ]
    }
   ],
   "source": [
    "numbers = [2, 4, 6, 8, 10]\n",
    "x = list(map(lambda y : y**2,numbers))\n",
    "print(x)"
   ]
  },
  {
   "cell_type": "raw",
   "id": "84a3df03",
   "metadata": {},
   "source": [
    "4. Multiplication of Corresponding Elements\n",
    "Use map() and a lambda function to multiply elements of two lists index-wise.\n",
    "\n",
    "python\n",
    "Copy\n",
    "Edit\n",
    "list1 = [1, 2, 3, 4, 5]\n",
    "list2 = [10, 20, 30, 40, 50]\n",
    "Expected Output:\n",
    "\n",
    "python\n",
    "Copy\n",
    "Edit\n",
    "[10, 40, 90, 160, 250]"
   ]
  },
  {
   "cell_type": "code",
   "execution_count": 17,
   "id": "0644292e",
   "metadata": {},
   "outputs": [
    {
     "name": "stdout",
     "output_type": "stream",
     "text": [
      "[10, 40, 90, 160, 250]\n"
     ]
    }
   ],
   "source": [
    "list1 = [1, 2, 3, 4, 5]\n",
    "list2 = [10, 20, 30, 40, 50]\n",
    "z = list(map(lambda x,y : x*y,list1,list2))\n",
    "print(z)"
   ]
  },
  {
   "cell_type": "raw",
   "id": "faaea36c",
   "metadata": {},
   "source": [
    "5. Find Palindromes in a List\n",
    "Use filter() and a lambda function to extract palindromic words from a list.\n",
    "\n",
    "python\n",
    "Copy\n",
    "Edit\n",
    "words = [\"level\", \"hello\", \"radar\", \"world\", \"madam\", \"python\"]\n",
    "Expected Output:\n",
    "\n",
    "python\n",
    "Copy\n",
    "Edit\n",
    "['level', 'radar', 'madam']"
   ]
  },
  {
   "cell_type": "code",
   "execution_count": 18,
   "id": "58b72102",
   "metadata": {},
   "outputs": [
    {
     "name": "stdout",
     "output_type": "stream",
     "text": [
      "['level', 'radar', 'madam']\n"
     ]
    }
   ],
   "source": [
    "words = [\"level\", \"hello\", \"radar\", \"world\", \"madam\", \"python\"]\n",
    "z = list(filter(lambda x : x[::-1] == x ,words))\n",
    "print(z)"
   ]
  },
  {
   "cell_type": "raw",
   "id": "755281c8",
   "metadata": {},
   "source": [
    "6. Convert List of Strings to Uppercase\n",
    "Use map() and a lambda function to convert a list of words to uppercase.\n",
    "\n",
    "python\n",
    "Copy\n",
    "Edit\n",
    "words = [\"apple\", \"banana\", \"cherry\"]\n",
    "Expected Output:\n",
    "\n",
    "python\n",
    "Copy\n",
    "Edit\n",
    "['APPLE', 'BANANA', 'CHERRY']"
   ]
  },
  {
   "cell_type": "code",
   "execution_count": 19,
   "id": "e825b204",
   "metadata": {},
   "outputs": [
    {
     "name": "stdout",
     "output_type": "stream",
     "text": [
      "['APPLE', 'BANANA', 'CHERRY']\n"
     ]
    }
   ],
   "source": [
    "words = [\"apple\", \"banana\", \"cherry\"]\n",
    "z = list(map(lambda x : x.upper(),words))\n",
    "print(z)"
   ]
  },
  {
   "cell_type": "raw",
   "id": "3536f963",
   "metadata": {},
   "source": [
    "7. Find Maximum Using Reduce\n",
    "Use functools.reduce() and a lambda function to find the maximum value in a list.\n",
    "\n",
    "python\n",
    "Copy\n",
    "Edit\n",
    "from functools import reduce\n",
    "numbers = [3, 7, 2, 9, 5, 10, 1]\n",
    "Expected Output:\n",
    "\n",
    "python\n",
    "Copy\n",
    "Edit\n",
    "10"
   ]
  },
  {
   "cell_type": "code",
   "execution_count": 20,
   "id": "dac3e81e",
   "metadata": {},
   "outputs": [
    {
     "name": "stdout",
     "output_type": "stream",
     "text": [
      "10\n"
     ]
    }
   ],
   "source": [
    "from functools import reduce\n",
    "\n",
    "numbers = [3, 7, 2, 9, 5, 10, 1]\n",
    "\n",
    "# Using reduce() with lambda to find the maximum number\n",
    "max_value = reduce(lambda x, y: x if x > y else y, numbers)\n",
    "\n",
    "print(max_value)"
   ]
  },
  {
   "cell_type": "raw",
   "id": "c1d972de",
   "metadata": {},
   "source": [
    "1. Sorting List of Dictionaries by Multiple Keys\n",
    "Given a list of dictionaries containing student names and their scores, use a lambda function to sort the list first by score in descending order, and in case of a tie, by name in ascending order.\n",
    "\n",
    "python\n",
    "Copy\n",
    "Edit\n",
    "students = [\n",
    "    {\"name\": \"Alice\", \"score\": 85},\n",
    "    {\"name\": \"Bob\", \"score\": 90},\n",
    "    {\"name\": \"Charlie\", \"score\": 85},\n",
    "    {\"name\": \"David\", \"score\": 92}\n",
    "]\n",
    "Expected Output:\n",
    "\n",
    "python\n",
    "Copy\n",
    "Edit\n",
    "[{'name': 'David', 'score': 92}, {'name': 'Bob', 'score': 90}, {'name': 'Alice', 'score': 85}, {'name': 'Charlie', 'score': 85}]\n",
    "\n",
    "\n"
   ]
  },
  {
   "cell_type": "code",
   "execution_count": 21,
   "id": "617acf31",
   "metadata": {},
   "outputs": [],
   "source": [
    "students = [\n",
    "    {\"name\": \"Alice\", \"score\": 85},\n",
    "    {\"name\": \"Bob\", \"score\": 90},\n",
    "    {\"name\": \"Charlie\", \"score\": 85},\n",
    "    {\"name\": \"David\", \"score\": 92}\n",
    "]\n"
   ]
  },
  {
   "cell_type": "code",
   "execution_count": 22,
   "id": "dc812ee6",
   "metadata": {},
   "outputs": [
    {
     "name": "stdout",
     "output_type": "stream",
     "text": [
      "[{'name': 'David', 'score': 92}, {'name': 'Bob', 'score': 90}, {'name': 'Alice', 'score': 85}, {'name': 'Charlie', 'score': 85}]\n"
     ]
    }
   ],
   "source": [
    "sorted_students = sorted(students, key=lambda x: (-x[\"score\"], x[\"name\"]))\n",
    "print(sorted_students)"
   ]
  },
  {
   "cell_type": "raw",
   "id": "922eeaa9",
   "metadata": {},
   "source": [
    "2. Removing Duplicates from a List Using set()\n",
    "Use filter() and a lambda function to remove duplicates from a list while maintaining the original order of elements.\n",
    "\n",
    "python\n",
    "Copy\n",
    "Edit\n",
    "numbers = [1, 2, 3, 4, 4, 5, 2, 6, 3]\n",
    "Expected Output:\n",
    "\n",
    "python\n",
    "Copy\n",
    "Edit\n",
    "[1, 2, 3, 4, 5, 6]"
   ]
  },
  {
   "cell_type": "code",
   "execution_count": 23,
   "id": "1fc0a7fd",
   "metadata": {},
   "outputs": [],
   "source": [
    "numbers = [1, 2, 3, 4, 4, 5, 2, 6, 3]\n",
    "y = set(numbers)"
   ]
  },
  {
   "cell_type": "code",
   "execution_count": 24,
   "id": "5fc88fb6",
   "metadata": {},
   "outputs": [],
   "source": [
    "z = list(y)"
   ]
  },
  {
   "cell_type": "code",
   "execution_count": 25,
   "id": "2ab8b52a",
   "metadata": {},
   "outputs": [
    {
     "data": {
      "text/plain": [
       "[1, 2, 3, 4, 5, 6]"
      ]
     },
     "execution_count": 25,
     "metadata": {},
     "output_type": "execute_result"
    }
   ],
   "source": [
    "z"
   ]
  },
  {
   "cell_type": "code",
   "execution_count": 26,
   "id": "04efe541",
   "metadata": {},
   "outputs": [],
   "source": [
    "seen = set()\n",
    "unique_numbers = list(filter(lambda x: x not in seen and not seen.add(x), numbers))"
   ]
  },
  {
   "cell_type": "code",
   "execution_count": 27,
   "id": "ce2a0c82",
   "metadata": {},
   "outputs": [
    {
     "data": {
      "text/plain": [
       "[1, 2, 3, 4, 5, 6]"
      ]
     },
     "execution_count": 27,
     "metadata": {},
     "output_type": "execute_result"
    }
   ],
   "source": [
    "unique_numbers"
   ]
  },
  {
   "cell_type": "raw",
   "id": "c278e0dd",
   "metadata": {},
   "source": [
    "3. Apply Multiple Operations with reduce()\n",
    "Question:\n",
    "Given a list of integers, use reduce() and a lambda function to calculate both the sum and product of the list elements.\n",
    "\n",
    "python\n",
    "Copy\n",
    "Edit\n",
    "numbers = [2, 3, 4]"
   ]
  },
  {
   "cell_type": "code",
   "execution_count": 28,
   "id": "c557afe2",
   "metadata": {},
   "outputs": [
    {
     "name": "stdout",
     "output_type": "stream",
     "text": [
      "Sum: 9\n",
      "Product: 24\n"
     ]
    }
   ],
   "source": [
    "from functools import reduce\n",
    "\n",
    "numbers = [2, 3, 4]\n",
    "\n",
    "# Calculate sum using reduce\n",
    "sum_result = reduce(lambda x, y: x + y, numbers)\n",
    "\n",
    "# Calculate product using reduce\n",
    "product_result = reduce(lambda x, y: x * y, numbers)\n",
    "\n",
    "print(\"Sum:\", sum_result)\n",
    "print(\"Product:\", product_result)\n"
   ]
  },
  {
   "cell_type": "raw",
   "id": "fcb03aa5",
   "metadata": {},
   "source": [
    "4. Find Palindromes Using filter() and lambda\n",
    "Question:\n",
    "Given a list of words, use filter() and a lambda function to find all the palindromes.\n",
    "\n",
    "python\n",
    "Copy\n",
    "Edit\n",
    "words = [\"level\", \"hello\", \"radar\", \"world\", \"madam\", \"python\"]\n"
   ]
  },
  {
   "cell_type": "code",
   "execution_count": 29,
   "id": "b51e2b39",
   "metadata": {},
   "outputs": [],
   "source": [
    "words = [\"level\", \"hello\", \"radar\", \"world\", \"madam\", \"python\"]\n",
    "z = list(filter(lambda x :  x == x[::-1],words))"
   ]
  },
  {
   "cell_type": "code",
   "execution_count": 30,
   "id": "16626cc7",
   "metadata": {},
   "outputs": [
    {
     "data": {
      "text/plain": [
       "['level', 'radar', 'madam']"
      ]
     },
     "execution_count": 30,
     "metadata": {},
     "output_type": "execute_result"
    }
   ],
   "source": [
    "z"
   ]
  },
  {
   "cell_type": "raw",
   "id": "3a5d96d8",
   "metadata": {},
   "source": [
    "5. Find the Intersection of Two Lists Using filter() and lambda\n",
    "Question:\n",
    "Given two lists, use filter() and a lambda function to find the common elements (intersection).\n",
    "\n",
    "python\n",
    "Copy\n",
    "Edit\n",
    "list1 = [1, 2, 3, 4, 5]\n",
    "list2 = [4, 5, 6, 7, 8]\n"
   ]
  },
  {
   "cell_type": "code",
   "execution_count": 31,
   "id": "a14233da",
   "metadata": {},
   "outputs": [],
   "source": [
    "list1 = [1, 2, 3, 4, 5]\n",
    "list2 = [4, 5, 6, 7, 8]\n",
    "z = list(filter( lambda x :x in list2, list1))"
   ]
  },
  {
   "cell_type": "code",
   "execution_count": 32,
   "id": "6e07b608",
   "metadata": {},
   "outputs": [
    {
     "data": {
      "text/plain": [
       "[4, 5]"
      ]
     },
     "execution_count": 32,
     "metadata": {},
     "output_type": "execute_result"
    }
   ],
   "source": [
    "z\n"
   ]
  },
  {
   "cell_type": "raw",
   "id": "994f3a88",
   "metadata": {},
   "source": [
    "6. Find the Longest Word in a List Using max() and lambda\n",
    "Question:\n",
    "Given a list of words, use max() and a lambda function to find the longest word.\n",
    "\n",
    "python\n",
    "Copy\n",
    "Edit\n",
    "words = [\"apple\", \"banana\", \"cherry\", \"blueberry\", \"kiwi\"]\n"
   ]
  },
  {
   "cell_type": "code",
   "execution_count": 33,
   "id": "c6ab3adc",
   "metadata": {},
   "outputs": [],
   "source": [
    "words = [\"apple\", \"banana\", \"cherry\", \"blueberry\", \"kiwi\"]\n",
    "longest_word = max(words, key=lambda word: len(word))"
   ]
  },
  {
   "cell_type": "raw",
   "id": "f55ace6e",
   "metadata": {},
   "source": [
    "7. Sort a List of Dictionaries by a Key Using sorted() and lambda\n",
    "Question:\n",
    "Given a list of dictionaries containing students' names and scores, use sorted() and a lambda function to sort the list in descending order of scores.\n",
    "\n",
    "python\n",
    "Copy\n",
    "Edit\n",
    "students = [\n",
    "    {\"name\": \"Alice\", \"score\": 85},\n",
    "    {\"name\": \"Bob\", \"score\": 90},\n",
    "    {\"name\": \"Charlie\", \"score\": 85},\n",
    "    {\"name\": \"David\", \"score\": 92}\n",
    "]\n"
   ]
  },
  {
   "cell_type": "code",
   "execution_count": 34,
   "id": "e022a77c",
   "metadata": {},
   "outputs": [],
   "source": [
    "students = [\n",
    "    {\"name\": \"Alice\", \"score\": 85},\n",
    "    {\"name\": \"Bob\", \"score\": 90},\n",
    "    {\"name\": \"Charlie\", \"score\": 85},\n",
    "    {\"name\": \"David\", \"score\": 92}\n",
    "]\n",
    "\n",
    "sorted_students = sorted(students, key=lambda student: student[\"score\"], reverse=True)"
   ]
  },
  {
   "cell_type": "code",
   "execution_count": 35,
   "id": "0e2b713d",
   "metadata": {},
   "outputs": [
    {
     "data": {
      "text/plain": [
       "[{'name': 'David', 'score': 92},\n",
       " {'name': 'Bob', 'score': 90},\n",
       " {'name': 'Alice', 'score': 85},\n",
       " {'name': 'Charlie', 'score': 85}]"
      ]
     },
     "execution_count": 35,
     "metadata": {},
     "output_type": "execute_result"
    }
   ],
   "source": [
    "sorted_students"
   ]
  },
  {
   "cell_type": "raw",
   "id": "9dbd0ac6",
   "metadata": {},
   "source": [
    "8. Find the Second Largest Number Using sorted() and lambda\n",
    "Question:\n",
    "Given a list of numbers, use sorted() and a lambda function to find the second largest number.\n",
    "\n",
    "python\n",
    "Copy\n",
    "Edit\n",
    "numbers = [10, 5, 8, 20, 15]\n"
   ]
  },
  {
   "cell_type": "code",
   "execution_count": 36,
   "id": "55e20580",
   "metadata": {},
   "outputs": [],
   "source": [
    "numbers = [10, 5, 8, 20, 15]\n",
    "second_largest = sorted(numbers, key=lambda x: x, reverse=True)[1]"
   ]
  },
  {
   "cell_type": "code",
   "execution_count": 37,
   "id": "f42379f9",
   "metadata": {},
   "outputs": [
    {
     "data": {
      "text/plain": [
       "15"
      ]
     },
     "execution_count": 37,
     "metadata": {},
     "output_type": "execute_result"
    }
   ],
   "source": [
    "second_largest"
   ]
  },
  {
   "cell_type": "raw",
   "id": "8653bfe7",
   "metadata": {},
   "source": [
    "9. Count Occurrences of Each Element Using reduce() and lambda\n",
    "Question:\n",
    "Given a list of numbers, use reduce() and a lambda function to count the occurrences of each element in the list.\n",
    "\n",
    "python\n",
    "Copy\n",
    "Edit\n",
    "numbers = [1, 2, 2, 3, 4, 4, 4, 5]\n"
   ]
  },
  {
   "cell_type": "code",
   "execution_count": 38,
   "id": "2079a660",
   "metadata": {},
   "outputs": [
    {
     "data": {
      "text/plain": [
       "{1: 1, 2: 2, 3: 1, 4: 3, 5: 1}"
      ]
     },
     "execution_count": 38,
     "metadata": {},
     "output_type": "execute_result"
    }
   ],
   "source": [
    "numbers = [1, 2, 2, 3, 4, 4, 4, 5]\n",
    "occurrences = reduce(lambda acc, x: acc.update({x: acc.get(x, 0) + 1}) or acc, numbers, {})\n",
    "occurrences"
   ]
  },
  {
   "cell_type": "raw",
   "id": "f2827a20",
   "metadata": {},
   "source": [
    "10. Create a Dictionary from Two Lists Using zip() and lambda\n",
    "Question:\n",
    "Given two lists: one containing keys and the other containing values, use zip() and a lambda function to create a dictionary.\n",
    "\n",
    "python\n",
    "Copy\n",
    "Edit\n",
    "keys = [\"name\", \"age\", \"city\"]\n",
    "values = [\"Alice\", 25, \"New York\"]\n"
   ]
  },
  {
   "cell_type": "code",
   "execution_count": 39,
   "id": "9a1a4587",
   "metadata": {},
   "outputs": [
    {
     "name": "stdout",
     "output_type": "stream",
     "text": [
      "{'name': 'Alice', 'age': 25, 'city': 'New York'}\n"
     ]
    }
   ],
   "source": [
    "keys = [\"name\", \"age\", \"city\"]\n",
    "values = [\"Alice\", 25, \"New York\"]\n",
    "\n",
    "# Use zip() and lambda to create a dictionary\n",
    "result_dict = dict(map(lambda kv: (kv[0], kv[1]), zip(keys, values)))\n",
    "\n",
    "print(result_dict)"
   ]
  },
  {
   "cell_type": "code",
   "execution_count": null,
   "id": "24d21ff0",
   "metadata": {},
   "outputs": [],
   "source": []
  }
 ],
 "metadata": {
  "kernelspec": {
   "display_name": "Python 3 (ipykernel)",
   "language": "python",
   "name": "python3"
  },
  "language_info": {
   "codemirror_mode": {
    "name": "ipython",
    "version": 3
   },
   "file_extension": ".py",
   "mimetype": "text/x-python",
   "name": "python",
   "nbconvert_exporter": "python",
   "pygments_lexer": "ipython3",
   "version": "3.11.3"
  }
 },
 "nbformat": 4,
 "nbformat_minor": 5
}
